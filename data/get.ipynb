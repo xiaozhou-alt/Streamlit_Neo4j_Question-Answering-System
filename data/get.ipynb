{
 "cells": [
  {
   "cell_type": "code",
   "execution_count": null,
   "metadata": {},
   "outputs": [],
   "source": [
    "# 示例代码 - 从Neo4j中提取实体并保存为词典文件\n",
    "from py2neo import Graph\n",
    "\n",
    "graph = Graph(\"bolt://localhost:7687\", auth=(\"neo4j\", \"yourpassword\"))\n",
    "\n",
    "# 提取文章标题\n",
    "articles = graph.run(\"MATCH (a:Article) RETURN a.title\").data()\n",
    "with open('./word_dic/art.txt', 'w', encoding='utf-8') as f:\n",
    "    for a in articles:\n",
    "        f.write(a['a.title'] + '\\n')\n",
    "\n",
    "# 提取作者姓名\n",
    "authors = graph.run(\"MATCH (a:Author) RETURN a.name\").data()\n",
    "with open('./word_dic/aut.txt', 'w', encoding='utf-8') as f:\n",
    "    for a in authors:\n",
    "        f.write(a['a.name'] + '\\n')\n",
    "\n",
    "# 提取期刊名称\n",
    "journals = graph.run(\"MATCH (j:Journal) RETURN j.name\").data()\n",
    "with open('./word_dic/jou.txt', 'w', encoding='utf-8') as f:\n",
    "    for j in journals:\n",
    "        f.write(j['j.name'] + '\\n')\n",
    "\n",
    "# 提取关键词\n",
    "keywords = graph.run(\"MATCH (k:Keyword) RETURN k.keyword\").data()\n",
    "with open('./word_dic/key.txt', 'w', encoding='utf-8') as f:\n",
    "    for k in keywords:\n",
    "        f.write(k['k.keyword'] + '\\n')\n",
    "\n",
    "# 提取机构名称\n",
    "institutions = graph.run(\"MATCH (i:Institution) RETURN i.address\").data()\n",
    "with open('./word_dic/ins.txt', 'w', encoding='utf-8') as f:\n",
    "    for i in institutions:\n",
    "        f.write(i['i.address'] + '\\n')\n",
    "\n",
    "# 提取领域名称\n",
    "domains = graph.run(\"MATCH (d:TechnologyDomain) RETURN d.name\").data()\n",
    "with open('./word_dic/dom.txt', 'w', encoding='utf-8') as f:\n",
    "    for d in domains:\n",
    "        f.write(d['d.name'] + '\\n')"
   ]
  },
  {
   "cell_type": "code",
   "execution_count": null,
   "metadata": {},
   "outputs": [],
   "source": [
    "# 合并所有词典文件\n",
    "import glob\n",
    "\n",
    "files = glob.glob('./word_dic/*.txt')\n",
    "with open('./word_dic/all.txt', 'w', encoding='utf-8') as outfile:\n",
    "    for f in files:\n",
    "        if f.endswith('all.txt'):\n",
    "            continue  # 跳过all.txt本身\n",
    "        with open(f, 'r', encoding='utf-8') as infile:\n",
    "            outfile.write(infile.read())"
   ]
  }
 ],
 "metadata": {
  "kernelspec": {
   "display_name": "base",
   "language": "python",
   "name": "python3"
  },
  "language_info": {
   "codemirror_mode": {
    "name": "ipython",
    "version": 3
   },
   "file_extension": ".py",
   "mimetype": "text/x-python",
   "name": "python",
   "nbconvert_exporter": "python",
   "pygments_lexer": "ipython3",
   "version": "3.7.0"
  }
 },
 "nbformat": 4,
 "nbformat_minor": 2
}
